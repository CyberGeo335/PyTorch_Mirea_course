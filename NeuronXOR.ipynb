{
  "nbformat": 4,
  "nbformat_minor": 0,
  "metadata": {
    "colab": {
      "provenance": [],
      "authorship_tag": "ABX9TyPvb1Ccwmkq80QxDhewCA/E",
      "include_colab_link": true
    },
    "kernelspec": {
      "name": "python3",
      "display_name": "Python 3"
    },
    "language_info": {
      "name": "python"
    }
  },
  "cells": [
    {
      "cell_type": "markdown",
      "metadata": {
        "id": "view-in-github",
        "colab_type": "text"
      },
      "source": [
        "<a href=\"https://colab.research.google.com/github/CyberGeo335/PyTorch_Mirea_course/blob/main/NeuronXOR.ipynb\" target=\"_parent\"><img src=\"https://colab.research.google.com/assets/colab-badge.svg\" alt=\"Open In Colab\"/></a>"
      ]
    },
    {
      "cell_type": "markdown",
      "source": [
        "XOR -> \"ИСКЛЮЧАЮЩЕЕ ИЛИ\"\n",
        "X1 X2 XOR\n",
        "1  1   0;\n",
        "1  0   1;\n",
        "0  1   1;\n",
        "0  0   0;"
      ],
      "metadata": {
        "id": "NRAqhwKJfGgz"
      }
    },
    {
      "cell_type": "code",
      "execution_count": 39,
      "metadata": {
        "id": "ZbInGXCXMNlN"
      },
      "outputs": [],
      "source": [
        "import torch"
      ]
    },
    {
      "cell_type": "code",
      "source": [
        "class NeuronXOR(torch.nn.Module):\n",
        "  def __init__(self, weights, offset):\n",
        "    super().__init__()\n",
        "    self.weight = weights\n",
        "    self.offset = offset\n",
        "  \n",
        "  def forward(self, x: torch.Tensor):\n",
        "    if (self.weight @ torch.transpose(x, 0, 1) + self.offset).item() > 0:\n",
        "      return 1.0\n",
        "    else:\n",
        "      return 0.0"
      ],
      "metadata": {
        "id": "IOKDKHpuMpxq"
      },
      "execution_count": 40,
      "outputs": []
    },
    {
      "cell_type": "code",
      "source": [
        "Neuron1 = NeuronXOR(torch.Tensor([[-1, 1]]), -0.5)\n",
        "Neuron2 = NeuronXOR(torch.Tensor([[1, -1]]), -0.5)\n",
        "Neuron3 = NeuronXOR(torch.Tensor([[1, 1]]), -0.5)\n",
        "\n",
        "print(\"Введите 2 булевых числа: \")\n",
        "x1 = int(input(\"x1: \"))\n",
        "x2 = int(input(\"x2: \"))\n",
        "print(\"XOR:\", Neuron3(torch.Tensor([[Neuron1(torch.Tensor([[x1, x2]])), Neuron2(torch.Tensor([[x1, x2]]))]])))"
      ],
      "metadata": {
        "colab": {
          "base_uri": "https://localhost:8080/"
        },
        "id": "By2dFVgcdP4H",
        "outputId": "1b633cb3-32e0-4aca-92e1-a62a1d3be3b2"
      },
      "execution_count": 44,
      "outputs": [
        {
          "output_type": "stream",
          "name": "stdout",
          "text": [
            "Введите 2 булевых числа: \n",
            "x1: 1\n",
            "x2: 1\n",
            "XOR: 0.0\n"
          ]
        }
      ]
    }
  ]
}